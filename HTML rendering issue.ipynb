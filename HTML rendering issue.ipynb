{
 "cells": [
  {
   "cell_type": "code",
   "execution_count": 1,
   "metadata": {
    "collapsed": false
   },
   "outputs": [
    {
     "data": {
      "text/html": [
       "\n",
       "    <div class=\"bk-banner\">\n",
       "        <a href=\"http://bokeh.pydata.org\" target=\"_blank\" class=\"bk-logo bk-logo-small bk-logo-notebook\"></a>\n",
       "        <span id=\"a7faefcc-15f4-4e04-94ce-1320a63c8509\">Loading BokehJS ...</span>\n",
       "    </div>"
      ]
     },
     "metadata": {},
     "output_type": "display_data"
    },
    {
     "data": {
      "application/javascript": [
       "\n",
       "(function(global) {\n",
       "  function now() {\n",
       "    return new Date();\n",
       "  }\n",
       "\n",
       "  if (typeof (window._bokeh_onload_callbacks) === \"undefined\") {\n",
       "    window._bokeh_onload_callbacks = [];\n",
       "  }\n",
       "\n",
       "  function run_callbacks() {\n",
       "    window._bokeh_onload_callbacks.forEach(function(callback) { callback() });\n",
       "    delete window._bokeh_onload_callbacks\n",
       "    console.info(\"Bokeh: all callbacks have finished\");\n",
       "  }\n",
       "\n",
       "  function load_libs(js_urls, callback) {\n",
       "    window._bokeh_onload_callbacks.push(callback);\n",
       "    if (window._bokeh_is_loading > 0) {\n",
       "      console.log(\"Bokeh: BokehJS is being loaded, scheduling callback at\", now());\n",
       "      return null;\n",
       "    }\n",
       "    if (js_urls == null || js_urls.length === 0) {\n",
       "      run_callbacks();\n",
       "      return null;\n",
       "    }\n",
       "    console.log(\"Bokeh: BokehJS not loaded, scheduling load and callback at\", now());\n",
       "    window._bokeh_is_loading = js_urls.length;\n",
       "    for (var i = 0; i < js_urls.length; i++) {\n",
       "      var url = js_urls[i];\n",
       "      var s = document.createElement('script');\n",
       "      s.src = url;\n",
       "      s.async = false;\n",
       "      s.onreadystatechange = s.onload = function() {\n",
       "        window._bokeh_is_loading--;\n",
       "        if (window._bokeh_is_loading === 0) {\n",
       "          console.log(\"Bokeh: all BokehJS libraries loaded\");\n",
       "          run_callbacks()\n",
       "        }\n",
       "      };\n",
       "      s.onerror = function() {\n",
       "        console.warn(\"failed to load library \" + url);\n",
       "      };\n",
       "      console.log(\"Bokeh: injecting script tag for BokehJS library: \", url);\n",
       "      document.getElementsByTagName(\"head\")[0].appendChild(s);\n",
       "    }\n",
       "  };\n",
       "\n",
       "  var js_urls = ['https://cdn.pydata.org/bokeh/release/bokeh-0.11.1.min.js', 'https://cdn.pydata.org/bokeh/release/bokeh-widgets-0.11.1.min.js', 'https://cdn.pydata.org/bokeh/release/bokeh-compiler-0.11.1.min.js'];\n",
       "\n",
       "  var inline_js = [\n",
       "    function(Bokeh) {\n",
       "      Bokeh.set_log_level(\"info\");\n",
       "    },\n",
       "    \n",
       "    function(Bokeh) {\n",
       "      Bokeh.$(\"#a7faefcc-15f4-4e04-94ce-1320a63c8509\").text(\"BokehJS successfully loaded\");\n",
       "    },\n",
       "    function(Bokeh) {\n",
       "      console.log(\"Bokeh: injecting CSS: https://cdn.pydata.org/bokeh/release/bokeh-0.11.1.min.css\");\n",
       "      Bokeh.embed.inject_css(\"https://cdn.pydata.org/bokeh/release/bokeh-0.11.1.min.css\");\n",
       "      console.log(\"Bokeh: injecting CSS: https://cdn.pydata.org/bokeh/release/bokeh-widgets-0.11.1.min.css\");\n",
       "      Bokeh.embed.inject_css(\"https://cdn.pydata.org/bokeh/release/bokeh-widgets-0.11.1.min.css\");\n",
       "    }\n",
       "  ];\n",
       "\n",
       "  function run_inline_js() {\n",
       "    for (var i = 0; i < inline_js.length; i++) {\n",
       "      inline_js[i](window.Bokeh);\n",
       "    }\n",
       "  }\n",
       "\n",
       "  if (window._bokeh_is_loading === 0) {\n",
       "    console.log(\"Bokeh: BokehJS loaded, going straight to plotting\");\n",
       "    run_inline_js();\n",
       "  } else {\n",
       "    load_libs(js_urls, function() {\n",
       "      console.log(\"Bokeh: BokehJS plotting callback run at\", now());\n",
       "      run_inline_js();\n",
       "    });\n",
       "  }\n",
       "}(this));"
      ]
     },
     "metadata": {},
     "output_type": "display_data"
    },
    {
     "data": {
      "text/html": [
       "<script>jQuery(function() {if (jQuery(\"body.notebook_app\").length == 0) { jQuery(\".input_area\").toggle(); jQuery(\".prompt\").toggle();}});</script>"
      ]
     },
     "metadata": {},
     "output_type": "display_data"
    }
   ],
   "source": [
    "#setup\n",
    "import pandas as pd\n",
    "import numpy as np\n",
    "import math\n",
    "import matplotlib.pyplot as plt\n",
    "pd.set_option('display.max_columns', 500)\n",
    "pd.set_option('display.max_rows', 10000)\n",
    "from bokeh.charts.operations import blend\n",
    "from bokeh.charts import Bar, Donut, show\n",
    "from bokeh.io import output_notebook\n",
    "from bokeh.charts.attributes import CatAttr\n",
    "from bokeh.models import HoverTool\n",
    "import folium\n",
    "output_notebook()\n",
    "import IPython as ipython\n",
    "import IPython.core.display as di\n",
    "\n",
    "# This line will hide code by default when the notebook is exported as HTML\n",
    "di.display_html('<script>jQuery(function() {if (jQuery(\"body.notebook_app\").length == 0) { jQuery(\".input_area\").toggle(); jQuery(\".prompt\").toggle();}});</script>', raw=True)\n",
    "\n",
    "\n"
   ]
  },
  {
   "cell_type": "code",
   "execution_count": 4,
   "metadata": {
    "collapsed": false
   },
   "outputs": [
    {
     "data": {
      "text/html": [
       "<html><head><meta content=\"text/html; charset=UTF-8\" http-equiv=\"content-type\"><style type=\"text/css\">ol{margin:0;padding:0}table td,table th{padding:0}.c8{background-color:#ffffff;max-width:468pt;padding:72pt 72pt 72pt 72pt}.c4{font-size:12pt;color:#cc0000;font-weight:700}.c6{orphans:2;widows:2;height:11pt}.c5{line-height:1.0;orphans:2;widows:2}.c10{orphans:2;widows:2}.c0{color:inherit;text-decoration:inherit}.c9{color:#1155cc;text-decoration:underline}.c1{color:#4c515a;font-size:12pt}.c3{width:33%;height:1px}.c7{font-weight:700}.c2{font-size:10pt}.title{padding-top:0pt;color:#000000;font-size:26pt;padding-bottom:3pt;font-family:\"Arial\";line-height:1.15;page-break-after:avoid;orphans:2;widows:2;text-align:left}.subtitle{padding-top:0pt;color:#666666;font-size:15pt;padding-bottom:16pt;font-family:\"Arial\";line-height:1.15;page-break-after:avoid;orphans:2;widows:2;text-align:left}li{color:#000000;font-size:11pt;font-family:\"Arial\"}p{margin:0;color:#000000;font-size:11pt;font-family:\"Arial\"}h1{padding-top:20pt;color:#000000;font-size:20pt;padding-bottom:6pt;font-family:\"Arial\";line-height:1.15;page-break-after:avoid;orphans:2;widows:2;text-align:left}h2{padding-top:18pt;color:#000000;font-size:16pt;padding-bottom:6pt;font-family:\"Arial\";line-height:1.15;page-break-after:avoid;orphans:2;widows:2;text-align:left}h3{padding-top:16pt;color:#434343;font-size:14pt;padding-bottom:4pt;font-family:\"Arial\";line-height:1.15;page-break-after:avoid;orphans:2;widows:2;text-align:left}h4{padding-top:14pt;color:#666666;font-size:12pt;padding-bottom:4pt;font-family:\"Arial\";line-height:1.15;page-break-after:avoid;orphans:2;widows:2;text-align:left}h5{padding-top:12pt;color:#666666;font-size:11pt;padding-bottom:4pt;font-family:\"Arial\";line-height:1.15;page-break-after:avoid;orphans:2;widows:2;text-align:left}h6{padding-top:12pt;color:#666666;font-size:11pt;padding-bottom:4pt;font-family:\"Arial\";line-height:1.15;page-break-after:avoid;font-style:italic;orphans:2;widows:2;text-align:left}</style></head><body class=\"c8\"><p class=\"c10\"><span class=\"c4\">SEX AND AGE DISAGGREGATION</span><sup class=\"c4\"><a href=\"#ftnt1\" id=\"ftnt_ref1\">[1]</a></sup></p><p class=\"c10\"><span class=\"c1\">Across the response, the largest age </span><span class=\"c1\">brackets</span><span class=\"c1\">&nbsp;were, understandably </span><span class=\"c1 c7\">18-59 </span><span class=\"c1\">and </span><span class=\"c1 c7\">5-17</span><sup class=\"c1 c7\"><a href=\"#ftnt2\" id=\"ftnt_ref2\">[2]</a></sup><span class=\"c1\">&nbsp;- not surprising, as these are also the widest age </span><span class=\"c1\">brackets</span><span class=\"c1\">. </span></p><p class=\"c6\"><span></span></p><hr class=\"c3\"><div><p class=\"c5\"><a href=\"#ftnt_ref1\" id=\"ftnt1\">[1]</a><span class=\"c2\">&nbsp;</span><span class=\"c2\">Further breakdown of SADD and </span><span class=\"c2\">country of origin</span><span class=\"c2\">&nbsp;data by district/camp within Turkey, Greece or the Balkans is also available. </span><span class=\"c1\">&nbsp;</span></p></div><div><p class=\"c5\"><a href=\"#ftnt_ref2\" id=\"ftnt2\">[2]</a><span class=\"c2\">&nbsp;The range of the current age brackets being used (i.e. the 18-59 brackets) significantly reduces the usefulness of age in analyzing disaggregated data. Greater insights could be gathered around the age-based needs of populations served by Mercy Corps if age were collected using</span><span class=\"c2\">&nbsp;</span><span class=\"c2 c9\"><a class=\"c0\" href=\"https://www.google.com/url?q=https://thedig.mercycorps.org/page/21&amp;sa=D&amp;ust=1471779169512000&amp;usg=AFQjCNGe-EGnyFOFGO8Kg7MJ0ibxA6YYzw\">Mercy Corps&rsquo; recommended age brackets</a></span><span class=\"c2\">, or preferably, collecting the exact age of household members as well as that of registered individuals. </span></p></div></body></html>"
      ],
      "text/plain": [
       "<IPython.core.display.HTML object>"
      ]
     },
     "execution_count": 4,
     "metadata": {},
     "output_type": "execute_result"
    }
   ],
   "source": [
    "ipython.display.HTML(\"\"\"<html><head><meta content=\"text/html; charset=UTF-8\" http-equiv=\"content-type\"><style type=\"text/css\">ol{margin:0;padding:0}table td,table th{padding:0}.c8{background-color:#ffffff;max-width:468pt;padding:72pt 72pt 72pt 72pt}.c4{font-size:12pt;color:#cc0000;font-weight:700}.c6{orphans:2;widows:2;height:11pt}.c5{line-height:1.0;orphans:2;widows:2}.c10{orphans:2;widows:2}.c0{color:inherit;text-decoration:inherit}.c9{color:#1155cc;text-decoration:underline}.c1{color:#4c515a;font-size:12pt}.c3{width:33%;height:1px}.c7{font-weight:700}.c2{font-size:10pt}.title{padding-top:0pt;color:#000000;font-size:26pt;padding-bottom:3pt;font-family:\"Arial\";line-height:1.15;page-break-after:avoid;orphans:2;widows:2;text-align:left}.subtitle{padding-top:0pt;color:#666666;font-size:15pt;padding-bottom:16pt;font-family:\"Arial\";line-height:1.15;page-break-after:avoid;orphans:2;widows:2;text-align:left}li{color:#000000;font-size:11pt;font-family:\"Arial\"}p{margin:0;color:#000000;font-size:11pt;font-family:\"Arial\"}h1{padding-top:20pt;color:#000000;font-size:20pt;padding-bottom:6pt;font-family:\"Arial\";line-height:1.15;page-break-after:avoid;orphans:2;widows:2;text-align:left}h2{padding-top:18pt;color:#000000;font-size:16pt;padding-bottom:6pt;font-family:\"Arial\";line-height:1.15;page-break-after:avoid;orphans:2;widows:2;text-align:left}h3{padding-top:16pt;color:#434343;font-size:14pt;padding-bottom:4pt;font-family:\"Arial\";line-height:1.15;page-break-after:avoid;orphans:2;widows:2;text-align:left}h4{padding-top:14pt;color:#666666;font-size:12pt;padding-bottom:4pt;font-family:\"Arial\";line-height:1.15;page-break-after:avoid;orphans:2;widows:2;text-align:left}h5{padding-top:12pt;color:#666666;font-size:11pt;padding-bottom:4pt;font-family:\"Arial\";line-height:1.15;page-break-after:avoid;orphans:2;widows:2;text-align:left}h6{padding-top:12pt;color:#666666;font-size:11pt;padding-bottom:4pt;font-family:\"Arial\";line-height:1.15;page-break-after:avoid;font-style:italic;orphans:2;widows:2;text-align:left}</style></head><body class=\"c8\"><p class=\"c10\"><span class=\"c4\">SEX AND AGE DISAGGREGATION</span><sup class=\"c4\"><a href=\"#ftnt1\" id=\"ftnt_ref1\">[1]</a></sup></p><p class=\"c10\"><span class=\"c1\">Across the response, the largest age </span><span class=\"c1\">brackets</span><span class=\"c1\">&nbsp;were, understandably </span><span class=\"c1 c7\">18-59 </span><span class=\"c1\">and </span><span class=\"c1 c7\">5-17</span><sup class=\"c1 c7\"><a href=\"#ftnt2\" id=\"ftnt_ref2\">[2]</a></sup><span class=\"c1\">&nbsp;- not surprising, as these are also the widest age </span><span class=\"c1\">brackets</span><span class=\"c1\">. </span></p><p class=\"c6\"><span></span></p><hr class=\"c3\"><div><p class=\"c5\"><a href=\"#ftnt_ref1\" id=\"ftnt1\">[1]</a><span class=\"c2\">&nbsp;</span><span class=\"c2\">Further breakdown of SADD and </span><span class=\"c2\">country of origin</span><span class=\"c2\">&nbsp;data by district/camp within Turkey, Greece or the Balkans is also available. </span><span class=\"c1\">&nbsp;</span></p></div><div><p class=\"c5\"><a href=\"#ftnt_ref2\" id=\"ftnt2\">[2]</a><span class=\"c2\">&nbsp;The range of the current age brackets being used (i.e. the 18-59 brackets) significantly reduces the usefulness of age in analyzing disaggregated data. Greater insights could be gathered around the age-based needs of populations served by Mercy Corps if age were collected using</span><span class=\"c2\">&nbsp;</span><span class=\"c2 c9\"><a class=\"c0\" href=\"https://www.google.com/url?q=https://thedig.mercycorps.org/page/21&amp;sa=D&amp;ust=1471779169512000&amp;usg=AFQjCNGe-EGnyFOFGO8Kg7MJ0ibxA6YYzw\">Mercy Corps&rsquo; recommended age brackets</a></span><span class=\"c2\">, or preferably, collecting the exact age of household members as well as that of registered individuals. </span></p></div></body></html>\"\"\")"
   ]
  },
  {
   "cell_type": "code",
   "execution_count": null,
   "metadata": {
    "collapsed": false
   },
   "outputs": [],
   "source": [
    "ipython.display.HTML(\"\"\"<html><head><meta content=\"text/html; charset=UTF-8\" http-equiv=\"content-type\"><style type=\"text/css\">ol{margin:0;padding:0}table td,table th{padding:0}.c1{background-color:#ffffff;max-width:468pt;padding:72pt 72pt 72pt 72pt}.c2{orphans:2;widows:2}.c0{color:#4c515a;font-size:12pt}.title{padding-top:0pt;color:#000000;font-size:26pt;padding-bottom:3pt;font-family:\"Arial\";line-height:1.15;page-break-after:avoid;orphans:2;widows:2;text-align:left}.subtitle{padding-top:0pt;color:#666666;font-size:15pt;padding-bottom:16pt;font-family:\"Arial\";line-height:1.15;page-break-after:avoid;orphans:2;widows:2;text-align:left}li{color:#000000;font-size:11pt;font-family:\"Arial\"}p{margin:0;color:#000000;font-size:11pt;font-family:\"Arial\"}h1{padding-top:20pt;color:#000000;font-size:20pt;padding-bottom:6pt;font-family:\"Arial\";line-height:1.15;page-break-after:avoid;orphans:2;widows:2;text-align:left}h2{padding-top:18pt;color:#000000;font-size:16pt;padding-bottom:6pt;font-family:\"Arial\";line-height:1.15;page-break-after:avoid;orphans:2;widows:2;text-align:left}h3{padding-top:16pt;color:#434343;font-size:14pt;padding-bottom:4pt;font-family:\"Arial\";line-height:1.15;page-break-after:avoid;orphans:2;widows:2;text-align:left}h4{padding-top:14pt;color:#666666;font-size:12pt;padding-bottom:4pt;font-family:\"Arial\";line-height:1.15;page-break-after:avoid;orphans:2;widows:2;text-align:left}h5{padding-top:12pt;color:#666666;font-size:11pt;padding-bottom:4pt;font-family:\"Arial\";line-height:1.15;page-break-after:avoid;orphans:2;widows:2;text-align:left}h6{padding-top:12pt;color:#666666;font-size:11pt;padding-bottom:4pt;font-family:\"Arial\";line-height:1.15;page-break-after:avoid;font-style:italic;orphans:2;widows:2;text-align:left}</style></head><body class=\"c1\"><p class=\"c2\"><span class=\"c0\">The beneficiary population in Izmir, Turkey is a relatively even split between female/male, with a slightly higher female </span><span class=\"c0\">population</span><span class=\"c0\">. </span></p></body></html>\"\"\")"
   ]
  },
  {
   "cell_type": "code",
   "execution_count": null,
   "metadata": {
    "collapsed": true
   },
   "outputs": [],
   "source": []
  }
 ],
 "metadata": {
  "kernelspec": {
   "display_name": "Python 3",
   "language": "python",
   "name": "python3"
  },
  "language_info": {
   "codemirror_mode": {
    "name": "ipython",
    "version": 3
   },
   "file_extension": ".py",
   "mimetype": "text/x-python",
   "name": "python",
   "nbconvert_exporter": "python",
   "pygments_lexer": "ipython3",
   "version": "3.5.2"
  }
 },
 "nbformat": 4,
 "nbformat_minor": 0
}
